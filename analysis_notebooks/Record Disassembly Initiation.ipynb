{
 "cells": [
  {
   "cell_type": "code",
   "execution_count": 1,
   "metadata": {},
   "outputs": [],
   "source": [
    "import numpy as np\n",
    "import matplotlib.pyplot as plt\n",
    "import pandas as pd\n",
    "import seaborn as sns\n",
    "\n",
    "from matplotlib import rc\n",
    "rc('font',**{'family':'sans-serif', 'sans-serif':['Source Sans Pro'], 'size':10})"
   ]
  },
  {
   "cell_type": "code",
   "execution_count": 46,
   "metadata": {},
   "outputs": [],
   "source": [
    "deb = ['0.05', '0.1', '0.15', '0.2', '0.25']\n",
    "att = ['1.6', '1.8', '2.0', '2.2', '2.4', '2.6']\n",
    "pss = ['10']\n",
    "repeats = 30\n",
    "basedir = '/Volumes/manoharan_lab/apaine/Code/disassembly/packaging_sites/1_PS_off/analysis'"
   ]
  },
  {
   "cell_type": "code",
   "execution_count": null,
   "metadata": {},
   "outputs": [],
   "source": [
    "# Read raw analysis from files\n",
    "\n",
    "cluster_data = {}\n",
    "bond_data = {}\n",
    "adsorbed_data = {}\n",
    "\n",
    "for d in deb:\n",
    "    cluster_data[d] = {}\n",
    "    bond_data[d] = {}\n",
    "    adsorbed_data[d] = {}\n",
    "    for a in att:\n",
    "        cluster_data[d][a] = []\n",
    "        bond_data[d][a] = []\n",
    "        adsorbed_data[d][a] = []\n",
    "        for i in range(repeats):\n",
    "            cluster_data[d][a].append(np.loadtxt(basedir + '/raw/cluster_DEB-%s_ATT-%s_PSS-%s_%s.txt' % (d, a, pss[0],str(i))))\n",
    "            bond_data[d][a].append(np.loadtxt(basedir + '/raw/bonds_DEB-%s_ATT-%s_PSS-%s_%s.txt' % (d, a, pss[0],str(i))))\n",
    "            adsorbed_data[d][a].append(np.loadtxt(basedir + '/raw/adsorbed_DEB-%s_ATT-%s_PSS-%s_%s.txt' % (d, a, pss[0],str(i))))\n",
    "\n",
    "x_scale = np.loadtxt(basedir + '/xscale/xscale.txt')"
   ]
  },
  {
   "cell_type": "code",
   "execution_count": 47,
   "metadata": {},
   "outputs": [],
   "source": [
    "pairs_data = {}\n",
    "\n",
    "for d in deb:\n",
    "    pairs_data[d] = {}\n",
    "    for a in att:\n",
    "        pairs_data[d][a] = []\n",
    "        for i in range(repeats):\n",
    "            single_trajectory_pairs = []\n",
    "            with open(basedir + '/raw/pairs_DEB-%s_ATT-%s_PSS-%s_%s.txt' % (d, a, pss[0], str(i)), 'r') as f:\n",
    "                for line in f.readlines():\n",
    "                    pairs = [pair.split('|') for pair in line.strip().split(' ')]\n",
    "                    single_trajectory_pairs.append(pairs)\n",
    "            pairs_data[d][a].append(single_trajectory_pairs)"
   ]
  },
  {
   "cell_type": "code",
   "execution_count": 48,
   "metadata": {},
   "outputs": [],
   "source": [
    "# Which capsomer initiates disassembly? First to reach 1 bond.\n",
    "disassembly_initiators = {}\n",
    "\n",
    "for d in deb:\n",
    "    disassembly_initiators[d] = {}\n",
    "    for a in att:\n",
    "        disassembly_initiators[d][a] = []\n",
    "        for traj in pairs_data[d][a]:\n",
    "            for frame_pairs in traj:\n",
    "                bodies, counts = np.unique(frame_pairs, return_counts=True)\n",
    "                try:\n",
    "                    index = list(counts).index(1)\n",
    "                    disassembly_initiators[d][a].append(bodies[index])\n",
    "                    break\n",
    "                except ValueError:\n",
    "                    continue"
   ]
  },
  {
   "cell_type": "code",
   "execution_count": 90,
   "metadata": {},
   "outputs": [
    {
     "data": {
      "text/plain": [
       "(array(['1039', '1097', '1155', '1213', '575', '633', '691', '749', '807',\n",
       "        '923', '981'], dtype='<U4'),\n",
       " array([5, 3, 2, 1, 2, 3, 4, 1, 2, 3, 4]))"
      ]
     },
     "execution_count": 90,
     "metadata": {},
     "output_type": "execute_result"
    }
   ],
   "source": [
    "np.unique(disassembly_initiators, return_counts=True)"
   ]
  },
  {
   "cell_type": "code",
   "execution_count": 91,
   "metadata": {},
   "outputs": [],
   "source": [
    "all_bodies = np.sort(list(map(int, np.unique(pairs_data[0][0]))))"
   ]
  },
  {
   "cell_type": "code",
   "execution_count": 92,
   "metadata": {},
   "outputs": [],
   "source": [
    "body_count = []\n",
    "for body in all_bodies:\n",
    "    body_count.append(disassembly_initiators.count(str(body)))"
   ]
  },
  {
   "cell_type": "code",
   "execution_count": 93,
   "metadata": {},
   "outputs": [],
   "source": [
    "counts_data = pd.DataFrame({\n",
    "    'body': all_bodies,\n",
    "    'count': body_count\n",
    "})"
   ]
  },
  {
   "cell_type": "code",
   "execution_count": 94,
   "metadata": {},
   "outputs": [],
   "source": [
    "counts_data.to_csv(basedir + '/counts.csv')"
   ]
  },
  {
   "cell_type": "code",
   "execution_count": 95,
   "metadata": {},
   "outputs": [
    {
     "data": {
      "image/png": "[encoded data removed]",
      "text/plain": [
       "<Figure size 576x432 with 1 Axes>"
      ]
     },
     "metadata": {
      "needs_background": "light"
     },
     "output_type": "display_data"
    }
   ],
   "source": [
    "plt.figure(figsize=(8, 6))\n",
    "sns.countplot(list(map(int, disassembly_initiators)), order=all_bodies, color='cadetblue')\n",
    "plt.xlabel('Capsomer no.', size='x-large')\n",
    "plt.ylabel('Count', size='x-large')\n",
    "plt.title('Capsomer initiating disassembly', size='x-large')\n",
    "plt.ylim(0, 10.5)\n",
    "plt.savefig(basedir + '/plots/disassembly-initiation.pdf')"
   ]
  },
  {
   "cell_type": "code",
   "execution_count": 3,
   "metadata": {},
   "outputs": [],
   "source": [
    "from scipy.stats import entropy\n",
    "uniform = [1, 1, 1, 1, 1, 1, 1, 1, 1, 1, 1, 1]"
   ]
  },
  {
   "cell_type": "code",
   "execution_count": 12,
   "metadata": {},
   "outputs": [],
   "source": [
    "isotropic = False\n",
    "\n",
    "if isotropic:\n",
    "    basedir1 = './packaging_sites/1_PS_off/analysis'\n",
    "    basedir2 = './polymer_path_disassembly_1/analysis'\n",
    "else:\n",
    "    basedir1 = './packaging_sites/0_PS_off/analysis'\n",
    "    basedir2 = './polymer_path_disassembly_0/analysis'\n",
    "data1 = pd.read_csv(basedir1 + '/counts.csv')\n",
    "data2 = pd.read_csv(basedir2 + '/counts.csv')\n",
    "bodies = np.array(data1['body'])\n",
    "counts = np.array(data1['count'] + data2['count'])"
   ]
  },
  {
   "cell_type": "code",
   "execution_count": 13,
   "metadata": {},
   "outputs": [
    {
     "data": {
      "image/png": "[encoded data removed]",
      "text/plain": [
       "<Figure size 194.4x108 with 1 Axes>"
      ]
     },
     "metadata": {
      "needs_background": "dark"
     },
     "output_type": "display_data"
    }
   ],
   "source": [
    "# Plot disassembly initiators\n",
    "\n",
    "plt.figure(figsize=(2.7, 1.5))\n",
    "ax = plt.gca()\n",
    "gray_ax = '#999999'\n",
    "ax.tick_params(color=gray_ax, labelcolor=gray_ax)\n",
    "ax.spines['top'].set_visible(False)\n",
    "ax.spines['right'].set_visible(False)\n",
    "ax.spines['bottom'].set_color(gray_ax)\n",
    "ax.spines['left'].set_color(gray_ax)\n",
    "    \n",
    "#sorted_counts = np.sort(counts)[::-1]\n",
    "\n",
    "count_order = np.argsort(counts)\n",
    "sorted_counts = counts[count_order[::-1]]\n",
    "sorted_bodies = bodies[count_order[::-1]]\n",
    "\n",
    "for i in range(len(bodies)):\n",
    "    plt.bar(i+1, sorted_counts[i], width=0.8, align='center', label='observed', color='cadetblue')\n",
    "plt.xticks(range(1, 13))\n",
    "plt.xlabel('Subunit', color=gray_ax)\n",
    "plt.ylim(0, 20)\n",
    "plt.ylabel('Disassembly\\ninitiations', color=gray_ax)\n",
    "plt.text(4, 15, 'KL divergence\\nfrom uniform = %s' % (str(np.round(entropy(counts, qk=uniform), decimals=2))))\n",
    "plt.tight_layout()\n",
    "if isotropic:\n",
    "    plt.savefig('../paper_plots/anisotropy/initiators_isotropic.pdf')\n",
    "else:\n",
    "    plt.savefig('../paper_plots/anisotropy/initiators_anisotropic.pdf')\n",
    "plt.show()"
   ]
  },
  {
   "cell_type": "code",
   "execution_count": 14,
   "metadata": {},
   "outputs": [],
   "source": [
    "# Plot initial reinforcements for each subunit in the same order as the initiator plot\n",
    "basedir = '/Volumes/manoharan_lab/apaine/Code/disassembly/packaging_sites/'\n",
    "\n",
    "if isotropic:\n",
    "    batch = '1_PS_off'\n",
    "else:\n",
    "    batch = '0_PS_off'\n",
    "\n",
    "def read_pairs(f):\n",
    "    text_pairs = np.loadtxt(f, dtype='str', delimiter='\\n')\n",
    "    list_pairs = [[pair.split('|') for pair in line.strip().split(' ')] for line in text_pairs]\n",
    "    return list_pairs\n",
    "\n",
    "def flatten(l):\n",
    "    try:\n",
    "        return flatten(l[0]) + (flatten(l[1:]) if len(l) > 1 else []) if type(l) is list else [l]\n",
    "    except IndexError:\n",
    "        return []\n",
    "\n",
    "init_pairs_strong = read_pairs(basedir + batch + '/analysis/raw/polymerconnections_DEB-0.2_ATT-2.0_PSS-10_0.txt')[0]\n",
    "init_pairs_weak = read_pairs(basedir + batch + '/analysis/raw/polymerconnections2_DEB-0.2_ATT-2.0_PSS-10_0.txt')[0]\n",
    "strong_subunits, strong_reinforcement_counts = np.unique(flatten(init_pairs_strong), return_counts=True)\n",
    "strong_subunits = np.array(list(map(int, map(float, strong_subunits))))\n",
    "weak_subunits, weak_reinforcement_counts = np.unique(flatten(init_pairs_weak), return_counts=True)\n",
    "weak_subunits = np.array(list(map(int, map(float, weak_subunits))))"
   ]
  },
  {
   "cell_type": "code",
   "execution_count": 15,
   "metadata": {},
   "outputs": [],
   "source": [
    "strong = []\n",
    "weak = []\n",
    "non = []\n",
    "\n",
    "for body in sorted_bodies:\n",
    "    strong_count = strong_reinforcement_counts[np.where(strong_subunits == body)]\n",
    "    weak_count = weak_reinforcement_counts[np.where(weak_subunits == body)] - strong_count\n",
    "    non_count = 10 - strong_count - weak_count\n",
    "    strong.append(int(strong_count/2))\n",
    "    weak.append(int(weak_count/2))\n",
    "    non.append(int(non_count/2))"
   ]
  },
  {
   "cell_type": "code",
   "execution_count": 16,
   "metadata": {},
   "outputs": [
    {
     "data": {
      "image/png": "[encoded data removed]",
      "text/plain": [
       "<Figure size 194.4x108 with 1 Axes>"
      ]
     },
     "metadata": {
      "needs_background": "dark"
     },
     "output_type": "display_data"
    }
   ],
   "source": [
    "# Plot initial reinforcement state\n",
    "\n",
    "plt.figure(figsize=(2.7, 1.5))\n",
    "ax = plt.gca()\n",
    "gray_ax = '#999999'\n",
    "ax.tick_params(color=gray_ax, labelcolor=gray_ax)\n",
    "ax.spines['top'].set_visible(False)\n",
    "ax.spines['right'].set_visible(False)\n",
    "ax.spines['bottom'].set_color(gray_ax)\n",
    "ax.spines['left'].set_color(gray_ax)\n",
    "\n",
    "for i in range(len(bodies)):\n",
    "    plt.bar(i+1, strong[i], width=0.8, align='center', color='indianred')\n",
    "for i in range(len(bodies)):\n",
    "    plt.bar(i+1, weak[i], width=0.8, align='center', color='indianred', alpha=0.5, bottom=strong[i])\n",
    "plt.xticks(range(1, 13))\n",
    "plt.xlabel('Subunit', color=gray_ax)\n",
    "plt.ylim(0, 5)\n",
    "plt.ylabel('Reinforcements', color=gray_ax)\n",
    "plt.tight_layout()\n",
    "plt.axhline(np.mean(np.array(strong)+np.array(weak)), c='k', lw=0.5)\n",
    "if isotropic:\n",
    "    plt.savefig('../paper_plots/anisotropy/initial_reinforcement_isotropic.pdf')\n",
    "else:\n",
    "    plt.savefig('../paper_plots/anisotropy/initial_reinforcement_anisotropic.pdf')\n",
    "plt.show()"
   ]
  },
  {
   "cell_type": "code",
   "execution_count": 27,
   "metadata": {},
   "outputs": [
    {
     "data": {
      "image/png": "[encoded data removed]",
      "text/plain": [
       "<Figure size 576x432 with 1 Axes>"
      ]
     },
     "metadata": {
      "needs_background": "light"
     },
     "output_type": "display_data"
    }
   ],
   "source": [
    "plt.figure(figsize=(8, 6))\n",
    "for i in range(len(bodies)):\n",
    "    plt.bar(i + 0.5, counts[i], width=0.8, align='center', label='observed', color='cadetblue')\n",
    "plt.xticks(np.arange(0.5, len(bodies) + 0.5, 1), bodies)\n",
    "plt.xlabel('Capsomer initiating disassembly', fontsize='x-large')\n",
    "plt.ylim(0, 20)\n",
    "plt.ylabel('Observed counts', fontsize='x-large')\n",
    "plt.title('Initial condition 9, divergence = %s' % (str(np.round(entropy(counts, qk=uniform), decimals=2))))\n",
    "plt.savefig(basedir1 + '/plots/initiators.pdf')\n",
    "plt.savefig('/Volumes/manoharan_lab/apaine/Code/disassembly/packaging_sites/plots/initiators_9.pdf')\n",
    "plt.show()"
   ]
  },
  {
   "cell_type": "code",
   "execution_count": 39,
   "metadata": {},
   "outputs": [],
   "source": [
    "all_bodies = np.sort(list(map(int, np.unique(pairs_data[deb[0]][att[0]][0][0]))))"
   ]
  },
  {
   "cell_type": "code",
   "execution_count": 40,
   "metadata": {},
   "outputs": [
    {
     "data": {
      "text/plain": [
       "array([ 575,  633,  691,  749,  807,  865,  923,  981, 1039, 1097, 1155,\n",
       "       1213])"
      ]
     },
     "execution_count": 40,
     "metadata": {},
     "output_type": "execute_result"
    }
   ],
   "source": [
    "all_bodies"
   ]
  },
  {
   "cell_type": "code",
   "execution_count": 49,
   "metadata": {},
   "outputs": [],
   "source": [
    "divergences = np.zeros((len(deb), len(att)))\n",
    "annotations = np.empty((len(deb), len(att)), dtype=object)\n",
    "\n",
    "for d in range(len(deb)):\n",
    "    for a in range(len(att)):\n",
    "        body_count = []\n",
    "        for body in all_bodies:\n",
    "            body_count.append(disassembly_initiators[deb[d]][att[a]].count(str(body)))\n",
    "        divergences[d][a] = entropy(body_count, qk=uniform)\n",
    "        annotations[d][a] = \"{:.2f}\".format(entropy(body_count, qk=uniform))"
   ]
  },
  {
   "cell_type": "code",
   "execution_count": 51,
   "metadata": {},
   "outputs": [
    {
     "data": {
      "image/png": "[encoded data removed]",
      "text/plain": [
       "<Figure size 432x288 with 2 Axes>"
      ]
     },
     "metadata": {
      "needs_background": "light"
     },
     "output_type": "display_data"
    }
   ],
   "source": [
    "# Heatmaps of individual pathways\n",
    "ax = plt.figure(figsize=(6, 4)).gca()\n",
    "sns.heatmap(divergences[::-1],\n",
    "            cmap='BuGn', vmin=0, vmax=1, annot=annotations[::-1], fmt = '')\n",
    "plt.xticks(ticks=np.arange(0.5, len(att)+0.5, 1), labels=att, fontsize='large')\n",
    "plt.yticks(ticks=np.arange(0.5, len(deb)+0.5, 1), labels=list(map(str, 5 * np.array(list(map(float, deb)))))[::-1], fontsize='large')\n",
    "plt.xlabel('Subunit-subunit attraction (kT)', fontsize='large')\n",
    "plt.ylabel('Debye length (nm)', fontsize='large')\n",
    "plt.title('Kullback-Leibler divergences (isotropic)')\n",
    "plt.savefig(basedir + '/plots/entropy_heatmap_0.pdf')\n",
    "plt.show()"
   ]
  },
  {
   "cell_type": "code",
   "execution_count": 55,
   "metadata": {},
   "outputs": [
    {
     "data": {
      "image/png": "[encoded data removed]",
      "text/plain": [
       "<Figure size 180x158.4 with 2 Axes>"
      ]
     },
     "metadata": {
      "needs_background": "light"
     },
     "output_type": "display_data"
    }
   ],
   "source": [
    "# Small heatmap for paper\n",
    "ax = plt.figure(figsize=(2.5, 2.2)).gca()\n",
    "sns.heatmap(divergences[::-1],\n",
    "            cmap='BuGn', vmin=0, vmax=1)\n",
    "plt.xticks(ticks=np.arange(0.5, len(att)+0.5, 1), labels=att, rotation=45)\n",
    "plt.yticks(ticks=np.arange(0.5, len(deb)+0.5, 1), labels=list(map(str, 5 * np.array(list(map(float, deb)))))[::-1], rotation=45)\n",
    "plt.xlabel('Subunit-subunit\\nattraction (kT)')\n",
    "plt.ylabel('Debye length (nm)')\n",
    "plt.tight_layout()\n",
    "plt.savefig('../paper_plots/anisotropy/KL_heatmap_isotropic.pdf')\n",
    "plt.show()"
   ]
  }
 ],
 "metadata": {
  "kernelspec": {
   "display_name": "Python 3",
   "language": "python",
   "name": "python3"
  },
  "language_info": {
   "codemirror_mode": {
    "name": "ipython",
    "version": 3
   },
   "file_extension": ".py",
   "mimetype": "text/x-python",
   "name": "python",
   "nbconvert_exporter": "python",
   "pygments_lexer": "ipython3",
   "version": "3.7.6"
  }
 },
 "nbformat": 4,
 "nbformat_minor": 4
}
